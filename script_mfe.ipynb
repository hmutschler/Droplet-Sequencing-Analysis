{
 "cells": [
  {
   "cell_type": "code",
   "execution_count": 1,
   "id": "e87ead2d",
   "metadata": {},
   "outputs": [],
   "source": [
    "import pandas as pd\n",
    "import matplotlib.pyplot as plt\n",
    "import numpy as np"
   ]
  },
  {
   "cell_type": "code",
   "execution_count": 2,
   "id": "e6f9d33d",
   "metadata": {},
   "outputs": [],
   "source": [
    "file_list = [\"Ref\", \"Sup\", \"Pel\"]"
   ]
  },
  {
   "cell_type": "code",
   "execution_count": 3,
   "id": "8248289f",
   "metadata": {},
   "outputs": [],
   "source": [
    "df = {}\n",
    "\n",
    "for file in file_list:\n",
    "    df[file] = pd.read_csv(f\"rnafold_output/{file}_fil_1_energy.txt\", header=None)\n",
    "    df[file].rename(columns={0:\"values\"}, inplace=True)"
   ]
  },
  {
   "cell_type": "code",
   "execution_count": 4,
   "id": "db168faa",
   "metadata": {},
   "outputs": [],
   "source": [
    "num_bins = 20\n",
    "min_value = -10\n",
    "max_value = 0\n",
    "bin_edges = np.linspace(min_value, max_value, num_bins + 1)\n",
    "x_values = np.linspace(min_value, max_value, num_bins + 2)\n",
    "\n",
    "df_counts = {}\n",
    "df_freq = {}\n",
    "\n",
    "for file in file_list:\n",
    "    df[file][\"bin\"] = np.digitize(df[file][\"values\"], bin_edges)\n",
    "    df_counts[file] = np.bincount(df[file][\"bin\"])\n",
    "    df_freq[file] = df_counts[file] / len(df[file][\"bin\"])"
   ]
  },
  {
   "cell_type": "code",
   "execution_count": 5,
   "id": "06c87b3a",
   "metadata": {},
   "outputs": [
    {
     "data": {
      "image/png": "[encoded data removed]",
      "text/plain": [
       "<Figure size 216x144 with 1 Axes>"
      ]
     },
     "metadata": {
      "needs_background": "light"
     },
     "output_type": "display_data"
    }
   ],
   "source": [
    "plt.rcParams['font.family'] = 'Arial'\n",
    "plt.rcParams['font.size'] = 9\n",
    "plt.rcParams['font.weight'] = 'bold'\n",
    "\n",
    "plt.figure(figsize=(3, 2))\n",
    "plt.plot(x_values, df_freq[\"Sup\"], label = \"Supernatant\", color=\"#6daaff\")\n",
    "plt.plot(x_values, df_freq[\"Pel\"], label = \"Droplet\", color=\"#CE70F2\")\n",
    "\n",
    "plt.legend(loc=\"upper left\")\n",
    "plt.xlabel(\"MFE\", weight=\"bold\", fontsize=10)\n",
    "plt.ylabel(\"relative occurence\", weight=\"bold\", fontsize=10)\n",
    "\n",
    "ax = plt.gca()\n",
    "ax.spines[\"top\"].set_visible(False)\n",
    "ax.spines[\"right\"].set_visible(False)\n",
    "plt.tick_params(axis=\"both\", direction=\"in\", length=5, width=1)\n",
    "#plt.gca().set_xticklabels([])\n",
    "#plt.gca().set_yticklabels([])\n",
    "plt.yticks([0, 0.1, 0.2, 0.3])\n",
    "plt.xticks([-10, -5, 0])\n",
    "\n",
    "plt.savefig(fname=\"mfe.pdf\", bbox_inches='tight', pad_inches=0.1)\n",
    "plt.show()"
   ]
  },
  {
   "cell_type": "code",
   "execution_count": 6,
   "id": "d66980b9",
   "metadata": {},
   "outputs": [
    {
     "name": "stdout",
     "output_type": "stream",
     "text": [
      "Ref: -1.292\n",
      "Sup: -1.446\n",
      "Pel: -0.873\n"
     ]
    }
   ],
   "source": [
    "df_avg = {}\n",
    "\n",
    "for file in file_list:\n",
    "    df_avg[file] = df[file][\"values\"].mean()\n",
    "    print(f\"{file}: {round(float(df_avg[file]), 3)}\")"
   ]
  }
 ],
 "metadata": {
  "kernelspec": {
   "display_name": "Python 3",
   "language": "python",
   "name": "python3"
  },
  "language_info": {
   "codemirror_mode": {
    "name": "ipython",
    "version": 3
   },
   "file_extension": ".py",
   "mimetype": "text/x-python",
   "name": "python",
   "nbconvert_exporter": "python",
   "pygments_lexer": "ipython3",
   "version": "3.8.8"
  },
  "toc": {
   "base_numbering": 1,
   "nav_menu": {},
   "number_sections": true,
   "sideBar": true,
   "skip_h1_title": false,
   "title_cell": "Table of Contents",
   "title_sidebar": "Contents",
   "toc_cell": false,
   "toc_position": {},
   "toc_section_display": true,
   "toc_window_display": false
  },
  "varInspector": {
   "cols": {
    "lenName": 16,
    "lenType": 16,
    "lenVar": 40
   },
   "kernels_config": {
    "python": {
     "delete_cmd_postfix": "",
     "delete_cmd_prefix": "del ",
     "library": "var_list.py",
     "varRefreshCmd": "print(var_dic_list())"
    },
    "r": {
     "delete_cmd_postfix": ") ",
     "delete_cmd_prefix": "rm(",
     "library": "var_list.r",
     "varRefreshCmd": "cat(var_dic_list()) "
    }
   },
   "types_to_exclude": [
    "module",
    "function",
    "builtin_function_or_method",
    "instance",
    "_Feature"
   ],
   "window_display": false
  }
 },
 "nbformat": 4,
 "nbformat_minor": 5
}
