{
 "cells": [
  {
   "cell_type": "code",
   "execution_count": 1,
   "id": "a10e1d02",
   "metadata": {},
   "outputs": [],
   "source": [
    "import pandas as pd\n",
    "import numpy as np\n",
    "import matplotlib.pyplot as plt\n",
    "import re"
   ]
  },
  {
   "cell_type": "code",
   "execution_count": 2,
   "id": "6b3e88af",
   "metadata": {},
   "outputs": [],
   "source": [
    "def read_fasta_to_dataframe(file_path):\n",
    "    sequences = []\n",
    "\n",
    "    with open(file_path, 'r') as file:\n",
    "        for i, line in enumerate(file):\n",
    "            if i % 2 == 1:  # Every second line contains the sequence\n",
    "                sequences.append(line.strip())\n",
    "\n",
    "    # Create a DataFrame from the list of sequences\n",
    "    df = pd.DataFrame(sequences, columns=['Sequence'])\n",
    "\n",
    "    return df"
   ]
  },
  {
   "cell_type": "code",
   "execution_count": 3,
   "id": "58825346",
   "metadata": {},
   "outputs": [],
   "source": [
    "df_pel = read_fasta_to_dataframe(\"../len_fil/Pel_fil_1.fasta\")\n",
    "df_sup = read_fasta_to_dataframe(\"../len_fil/Sup_fil_1.fasta\")\n",
    "df_ref = read_fasta_to_dataframe(\"../len_fil/Ref_fil_1.fasta\")"
   ]
  },
  {
   "cell_type": "code",
   "execution_count": 4,
   "id": "ba9e1806",
   "metadata": {},
   "outputs": [],
   "source": [
    "def find_A_G(df):\n",
    "    data = []\n",
    "    \n",
    "    for seq in df[\"Sequence\"]:\n",
    "        # Find all non-overlapping stretches\n",
    "        A_5_matches = re.findall(r\"A{5,}\", seq)\n",
    "        G_5_matches = re.findall(r\"G{5,}\", seq)\n",
    "        A_7_matches = re.findall(r\"A{7,}\", seq)\n",
    "        G_7_matches = re.findall(r\"G{7,}\", seq)\n",
    "\n",
    "        data.append({\n",
    "            \"Sequence\": seq,\n",
    "            \"5A_count\": len(A_5_matches),\n",
    "            \"5G_count\": len(G_5_matches),\n",
    "            \"7A_count\": len(A_7_matches),\n",
    "            \"7G_count\": len(G_7_matches)\n",
    "        })\n",
    "\n",
    "    \n",
    "    new_df = pd.DataFrame(data)\n",
    "    return new_df"
   ]
  },
  {
   "cell_type": "code",
   "execution_count": 5,
   "id": "faeefbf4",
   "metadata": {},
   "outputs": [],
   "source": [
    "df_pel_res2 = find_A_G(df_pel)\n",
    "df_sup_res2 = find_A_G(df_sup)\n",
    "df_ref_res2 = find_A_G(df_ref)"
   ]
  },
  {
   "cell_type": "code",
   "execution_count": 6,
   "id": "f96dd9b9",
   "metadata": {},
   "outputs": [],
   "source": [
    "df_repeat_counts = pd.DataFrame()\n",
    "df_repeat_counts[\"5A\"] = [sum(df_pel_res2[\"5A_count\"]), sum(df_sup_res2[\"5A_count\"]), sum(df_ref_res2[\"5A_count\"])]\n",
    "df_repeat_counts[\"7A\"] = [sum(df_pel_res2[\"7A_count\"]), sum(df_sup_res2[\"7A_count\"]), sum(df_ref_res2[\"7A_count\"])]\n",
    "df_repeat_counts[\"5G\"] = [sum(df_pel_res2[\"5G_count\"]), sum(df_sup_res2[\"5G_count\"]), sum(df_ref_res2[\"5G_count\"])]\n",
    "df_repeat_counts[\"7G\"] = [sum(df_pel_res2[\"7G_count\"]), sum(df_sup_res2[\"7G_count\"]), sum(df_ref_res2[\"7G_count\"])]\n",
    "df_repeat_counts.index = [\"Droplet\", \"Supernatant\", \"Reference\"]"
   ]
  },
  {
   "cell_type": "code",
   "execution_count": 7,
   "id": "276f525e",
   "metadata": {},
   "outputs": [
    {
     "data": {
      "text/html": [
       "<div>\n",
       "<style scoped>\n",
       "    .dataframe tbody tr th:only-of-type {\n",
       "        vertical-align: middle;\n",
       "    }\n",
       "\n",
       "    .dataframe tbody tr th {\n",
       "        vertical-align: top;\n",
       "    }\n",
       "\n",
       "    .dataframe thead th {\n",
       "        text-align: right;\n",
       "    }\n",
       "</style>\n",
       "<table border=\"1\" class=\"dataframe\">\n",
       "  <thead>\n",
       "    <tr style=\"text-align: right;\">\n",
       "      <th></th>\n",
       "      <th>5A</th>\n",
       "      <th>7A</th>\n",
       "      <th>5G</th>\n",
       "      <th>7G</th>\n",
       "    </tr>\n",
       "  </thead>\n",
       "  <tbody>\n",
       "    <tr>\n",
       "      <th>Droplet</th>\n",
       "      <td>2.558939</td>\n",
       "      <td>0.296247</td>\n",
       "      <td>5.056958</td>\n",
       "      <td>0.512435</td>\n",
       "    </tr>\n",
       "    <tr>\n",
       "      <th>Supernatant</th>\n",
       "      <td>0.954303</td>\n",
       "      <td>0.022725</td>\n",
       "      <td>2.387555</td>\n",
       "      <td>0.163180</td>\n",
       "    </tr>\n",
       "    <tr>\n",
       "      <th>Reference</th>\n",
       "      <td>1.222270</td>\n",
       "      <td>0.057868</td>\n",
       "      <td>2.816985</td>\n",
       "      <td>0.224536</td>\n",
       "    </tr>\n",
       "  </tbody>\n",
       "</table>\n",
       "</div>"
      ],
      "text/plain": [
       "                   5A        7A        5G        7G\n",
       "Droplet      2.558939  0.296247  5.056958  0.512435\n",
       "Supernatant  0.954303  0.022725  2.387555  0.163180\n",
       "Reference    1.222270  0.057868  2.816985  0.224536"
      ]
     },
     "execution_count": 7,
     "metadata": {},
     "output_type": "execute_result"
    }
   ],
   "source": [
    "row_counts = pd.Series(\n",
    "    [len(df_pel_res2)/100, len(df_sup_res2)/100, len(df_ref_res2)/100],\n",
    "    index=[\"Droplet\", \"Supernatant\", \"Reference\"]\n",
    ")\n",
    "\n",
    "df_repeat_perc = df_repeat_counts.div(row_counts, axis=0)\n",
    "\n",
    "df_repeat_perc"
   ]
  },
  {
   "cell_type": "code",
   "execution_count": 8,
   "id": "dd805703",
   "metadata": {},
   "outputs": [],
   "source": [
    "plt.rcParams['font.family'] = 'Arial'\n",
    "plt.rcParams['font.size'] = 10\n",
    "plt.rcParams['font.weight'] = 'bold'\n",
    "\n",
    "def plot_repeat_fractions(df_repeat_frac):\n",
    "    titles = [\"≥5 A's\", \"≥7 A's\", \"≥5 G's\", \"≥7 G's\"]\n",
    "    colors = [\"#CE70F2\", \"#6daaff\", \"red\"]  # One color per sample type (e.g. pellet/sup/input)\n",
    "    sample_labels = df_repeat_frac.index.tolist()  # e.g., [\"Pellet\", \"Supernatant\", \"Input\"]\n",
    "    num_groups = len(titles)\n",
    "    num_bars_per_group = len(sample_labels)\n",
    "\n",
    "    x = np.arange(num_groups)  # one x-position per repeat type\n",
    "    width = 0.2  # width of each individual bar\n",
    "\n",
    "    fig, ax = plt.subplots(figsize=(9/2.54, 6.5/2.54))\n",
    "\n",
    "    for i, sample in enumerate(sample_labels):\n",
    "        values = [df_repeat_frac.loc[sample, col] for col in df_repeat_frac.columns]\n",
    "        ax.bar(x + i * width, values, width, label=sample, color=colors[i])\n",
    "\n",
    "    ax.set_ylabel(\"Frequency / %\", weight=\"bold\", fontsize=10)\n",
    "    ax.set_xticks(x + width * (num_bars_per_group - 1) / 2)\n",
    "    ax.set_xticklabels(titles)\n",
    "\n",
    "    # Add legend below the plot\n",
    "    ax.legend(loc='upper center', bbox_to_anchor=(0.5, -0.15), ncol=len(sample_labels), frameon=False)\n",
    "\n",
    "    plt.tight_layout()\n",
    "    #plt.savefig(\"consecutive_A_G.pdf\", bbox_inches=\"tight\")\n",
    "    plt.show()"
   ]
  },
  {
   "cell_type": "code",
   "execution_count": 9,
   "id": "84216640",
   "metadata": {},
   "outputs": [
    {
     "data": {
      "image/png": "[encoded data removed]",
      "text/plain": [
       "<Figure size 255.118x184.252 with 1 Axes>"
      ]
     },
     "metadata": {
      "needs_background": "light"
     },
     "output_type": "display_data"
    }
   ],
   "source": [
    "plot_repeat_fractions(df_repeat_perc)"
   ]
  },
  {
   "cell_type": "code",
   "execution_count": 10,
   "id": "8d4e29f9",
   "metadata": {},
   "outputs": [],
   "source": [
    "df_drop_sup = df_repeat_perc.drop(\"Reference\")"
   ]
  },
  {
   "cell_type": "code",
   "execution_count": 11,
   "id": "5e7d8bb5",
   "metadata": {},
   "outputs": [
    {
     "data": {
      "image/png": "[encoded data removed]",
      "text/plain": [
       "<Figure size 255.118x184.252 with 1 Axes>"
      ]
     },
     "metadata": {
      "needs_background": "light"
     },
     "output_type": "display_data"
    }
   ],
   "source": [
    "plot_repeat_fractions(df_drop_sup)"
   ]
  },
  {
   "cell_type": "code",
   "execution_count": 12,
   "id": "bba51257",
   "metadata": {},
   "outputs": [
    {
     "data": {
      "image/png": "[encoded data removed]",
      "text/plain": [
       "<Figure size 212.598x184.252 with 1 Axes>"
      ]
     },
     "metadata": {
      "needs_background": "light"
     },
     "output_type": "display_data"
    }
   ],
   "source": [
    "def plot_repeat_fractions_keynote(df_repeat_frac):\n",
    "    titles = [\"≥5 A's\", \"≥7 A's\", \"≥5 G's\", \"≥7 G's\"]\n",
    "    colors = [\"#CE70F2\", \"#6daaff\", \"red\"]  # One color per sample type (e.g. pellet/sup/input)\n",
    "    sample_labels = df_repeat_frac.index.tolist()  # e.g., [\"Pellet\", \"Supernatant\", \"Input\"]\n",
    "    num_groups = len(titles)\n",
    "    num_bars_per_group = len(sample_labels)\n",
    "\n",
    "    x = np.arange(num_groups)  # one x-position per repeat type\n",
    "    width = 0.2  # width of each individual bar\n",
    "\n",
    "    fig, ax = plt.subplots(figsize=(7.5/2.54, 6.5/2.54))\n",
    "\n",
    "    for i, sample in enumerate(sample_labels):\n",
    "        values = [df_repeat_frac.loc[sample, col] for col in df_repeat_frac.columns]\n",
    "        ax.bar(x + i * width, values, width, label=sample, color=colors[i])\n",
    "\n",
    "    #ax.set_ylabel(\"Frequency / %\", weight=\"bold\", fontsize=10)\n",
    "    ax.set_xticks(x + width * (num_bars_per_group - 1) / 2)\n",
    "    #ax.set_xticklabels(titles)\n",
    "    ax.spines[\"top\"].set_visible(False)\n",
    "    ax.spines[\"right\"].set_visible(False)\n",
    "    plt.tick_params(axis=\"y\", direction=\"in\", length=5, width=1)\n",
    "    plt.tick_params(axis=\"x\", length=0)\n",
    "    plt.gca().set_xticklabels([])\n",
    "    plt.gca().set_yticklabels([])\n",
    "    plt.yticks([0, 2, 4])\n",
    "\n",
    "    # Add legend below the plot\n",
    "    #ax.legend(loc='upper center', bbox_to_anchor=(0.5, -0.15), ncol=len(sample_labels), frameon=False)\n",
    "\n",
    "    plt.tight_layout()\n",
    "    plt.savefig(\"Figure_2D_keynote.pdf\", bbox_inches=\"tight\")\n",
    "    plt.show()\n",
    "\n",
    "plot_repeat_fractions_keynote(df_drop_sup)"
   ]
  }
 ],
 "metadata": {
  "kernelspec": {
   "display_name": "Python 3",
   "language": "python",
   "name": "python3"
  },
  "language_info": {
   "codemirror_mode": {
    "name": "ipython",
    "version": 3
   },
   "file_extension": ".py",
   "mimetype": "text/x-python",
   "name": "python",
   "nbconvert_exporter": "python",
   "pygments_lexer": "ipython3",
   "version": "3.8.8"
  },
  "toc": {
   "base_numbering": 1,
   "nav_menu": {},
   "number_sections": true,
   "sideBar": true,
   "skip_h1_title": false,
   "title_cell": "Table of Contents",
   "title_sidebar": "Contents",
   "toc_cell": false,
   "toc_position": {},
   "toc_section_display": true,
   "toc_window_display": false
  },
  "varInspector": {
   "cols": {
    "lenName": 16,
    "lenType": 16,
    "lenVar": 40
   },
   "kernels_config": {
    "python": {
     "delete_cmd_postfix": "",
     "delete_cmd_prefix": "del ",
     "library": "var_list.py",
     "varRefreshCmd": "print(var_dic_list())"
    },
    "r": {
     "delete_cmd_postfix": ") ",
     "delete_cmd_prefix": "rm(",
     "library": "var_list.r",
     "varRefreshCmd": "cat(var_dic_list()) "
    }
   },
   "types_to_exclude": [
    "module",
    "function",
    "builtin_function_or_method",
    "instance",
    "_Feature"
   ],
   "window_display": false
  }
 },
 "nbformat": 4,
 "nbformat_minor": 5
}
