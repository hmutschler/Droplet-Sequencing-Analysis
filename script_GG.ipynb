{
 "cells": [
  {
   "cell_type": "code",
   "execution_count": 1,
   "id": "5287cf68",
   "metadata": {},
   "outputs": [],
   "source": [
    "import numpy as np\n",
    "import pandas as pd\n",
    "import matplotlib.pyplot as plt"
   ]
  },
  {
   "cell_type": "code",
   "execution_count": 2,
   "id": "aa3610c8",
   "metadata": {},
   "outputs": [],
   "source": [
    "def read_fasta_to_dataframe(file_path):\n",
    "    sequences = []\n",
    "\n",
    "    with open(file_path, 'r') as file:\n",
    "        for i, line in enumerate(file):\n",
    "            if i % 2 == 1:  # Every second line contains the sequence\n",
    "                sequences.append(line.strip())\n",
    "\n",
    "    # Create a DataFrame from the list of sequences\n",
    "    df = pd.DataFrame(sequences, columns=['Sequence'])\n",
    "\n",
    "    return df"
   ]
  },
  {
   "cell_type": "code",
   "execution_count": 5,
   "id": "ce2d41fa",
   "metadata": {},
   "outputs": [],
   "source": [
    "file_path = '../len_fil/Pel_fil_1.fasta'\n",
    "df = read_fasta_to_dataframe(file_path)"
   ]
  },
  {
   "cell_type": "code",
   "execution_count": 6,
   "id": "b667810b",
   "metadata": {},
   "outputs": [],
   "source": [
    "GG_start = df[df['Sequence'].str.startswith('GG')]\n",
    "GG_end = df[df['Sequence'].str.endswith('GG')]\n",
    "GG_both = GG_start[GG_start['Sequence'].str.endswith('GG')]\n",
    "GGG_start = df[df['Sequence'].str.startswith('GGG')]\n",
    "GGG_end = df[df['Sequence'].str.endswith('GGG')]\n",
    "GGG_both = GGG_start[GGG_start['Sequence'].str.endswith('GGG')]"
   ]
  },
  {
   "cell_type": "code",
   "execution_count": 7,
   "id": "81bc298d",
   "metadata": {},
   "outputs": [],
   "source": [
    "def calculate_nucleotide_content(df):\n",
    "    # Initialize a list to store the nucleotide content for each position\n",
    "    nucleotide_content = []\n",
    "\n",
    "    # Assuming all sequences are exactly 30 nt long\n",
    "    seq_length = 30\n",
    "\n",
    "    # Iterate over each position\n",
    "    for pos in range(seq_length):\n",
    "        count_A = count_G = count_C = count_T = 0\n",
    "\n",
    "        # Count the occurrences of each nucleotide at the current position\n",
    "        for seq in df['Sequence']:\n",
    "            if seq[pos] == 'A':\n",
    "                count_A += 1\n",
    "            elif seq[pos] == 'G':\n",
    "                count_G += 1\n",
    "            elif seq[pos] == 'C':\n",
    "                count_C += 1\n",
    "            elif seq[pos] == 'T':\n",
    "                count_T += 1\n",
    "\n",
    "        # Total number of sequences (all sequences are assumed to be 30 nt long)\n",
    "        total_count = len(df)\n",
    "\n",
    "        # Calculate the fraction of each nucleotide at the current position\n",
    "        nucleotide_content.append({\n",
    "            'Position': pos + 1,\n",
    "            'A': count_A / total_count,\n",
    "            'G': count_G / total_count,\n",
    "            'C': count_C / total_count,\n",
    "            'T': count_T / total_count\n",
    "        })\n",
    "\n",
    "    # Create a DataFrame from the list of nucleotide content\n",
    "    nucleotide_content_df = pd.DataFrame(nucleotide_content)\n",
    "\n",
    "    return nucleotide_content_df"
   ]
  },
  {
   "cell_type": "code",
   "execution_count": 8,
   "id": "431b05a4",
   "metadata": {},
   "outputs": [],
   "source": [
    "GG_start_dist = calculate_nucleotide_content(GG_start)\n",
    "GG_end_dist = calculate_nucleotide_content(GG_end)\n",
    "GG_both_dist = calculate_nucleotide_content(GG_both)\n",
    "GGG_start_dist = calculate_nucleotide_content(GGG_start)\n",
    "GGG_end_dist = calculate_nucleotide_content(GGG_end)\n",
    "GGG_both_dist = calculate_nucleotide_content(GGG_both)"
   ]
  },
  {
   "cell_type": "code",
   "execution_count": 9,
   "id": "bdae0ffa",
   "metadata": {},
   "outputs": [],
   "source": [
    "All_dist = calculate_nucleotide_content(df)"
   ]
  },
  {
   "cell_type": "code",
   "execution_count": 11,
   "id": "1f2f5240",
   "metadata": {},
   "outputs": [],
   "source": [
    "def calculate_differences(individual_df, all_df):\n",
    "    diff_df = individual_df.copy()\n",
    "    diff_df['A'] = individual_df['A'] - all_df['A']\n",
    "    diff_df['G'] = individual_df['G'] - all_df['G']\n",
    "    diff_df['C'] = individual_df['C'] - all_df['C']\n",
    "    diff_df['T'] = individual_df['T'] - all_df['T']\n",
    "    return diff_df"
   ]
  },
  {
   "cell_type": "code",
   "execution_count": 12,
   "id": "928b2e4c",
   "metadata": {},
   "outputs": [],
   "source": [
    "GG_start_diff = calculate_differences(GG_start_dist, All_dist)\n",
    "GG_end_diff = calculate_differences(GG_end_dist, All_dist)\n",
    "GG_both_diff = calculate_differences(GG_both_dist, All_dist)\n",
    "GGG_start_diff = calculate_differences(GGG_start_dist, All_dist)\n",
    "GGG_end_diff = calculate_differences(GGG_end_dist, All_dist)\n",
    "GGG_both_diff = calculate_differences(GGG_both_dist, All_dist)"
   ]
  },
  {
   "cell_type": "code",
   "execution_count": 13,
   "id": "224eead0",
   "metadata": {},
   "outputs": [
    {
     "data": {
      "image/png": "[encoded data removed]",
      "text/plain": [
       "<Figure size 216x324 with 6 Axes>"
      ]
     },
     "metadata": {
      "needs_background": "light"
     },
     "output_type": "display_data"
    }
   ],
   "source": [
    "plt.rcParams['font.family'] = 'Arial'\n",
    "plt.rcParams['font.size'] = 9\n",
    "plt.rcParams['font.weight'] = 'bold'\n",
    "\n",
    "def plot_difference(ax, df, title):\n",
    "    ax.plot(df['Position'], df['A']*100, label='A', color='red')\n",
    "    ax.plot(df['Position'], df['G']*100, label='G', color='blue')\n",
    "    ax.plot(df['Position'], df['C']*100, label='C', color='orange')\n",
    "    ax.plot(df['Position'], df['T']*100, label='T', color='green')\n",
    "    ax.set_title(title)\n",
    "    ax.set_ylim(-8, 8)\n",
    "    ax.set_yticks([-8, -4, 0, 4, 8])\n",
    "    ax.set_xticks([0, 10, 20, 30])\n",
    "    ax.grid(True)\n",
    "\n",
    "fig, axs = plt.subplots(3, 2, figsize=(3, 4.5))\n",
    "\n",
    "# Plot the 5 graphs\n",
    "plot_difference(axs[0, 0], GG_start_diff, '5\\'-GG')\n",
    "plot_difference(axs[0, 1], GG_end_diff, 'GG-3\\'')\n",
    "plot_difference(axs[1, 0], GG_both_diff, '5\\'-GG - GG-3\\'')\n",
    "plot_difference(axs[1, 1], GGG_start_diff, '5\\'-GGG')\n",
    "plot_difference(axs[2, 0], GGG_end_diff, 'GGG-3\\'')\n",
    "\n",
    "# Remove the bottom right axis\n",
    "axs[2, 1].axis('off')\n",
    "\n",
    "# Add a legend in the empty bottom-right space\n",
    "handles, labels = axs[0, 0].get_legend_handles_labels()\n",
    "fig.legend(handles, labels, loc='center right', bbox_to_anchor=(0.8, 0.2))\n",
    "\n",
    "# Add common axis labels for the figure\n",
    "#fig.text(0.5, 0.0001, 'Position', ha='center', va='center', weight=\"bold\", fontsize=10)\n",
    "fig.text(0, 0.5, r'Difference $f_{\\mathrm{drop, GG}} - f_{\\mathrm{drop}}$ / $\\Delta\\%$', \n",
    "         ha='center', va='center', rotation='vertical', weight=\"bold\", fontsize=10)\n",
    "\n",
    "# Adjust layout\n",
    "plt.tight_layout()\n",
    "plt.subplots_adjust(left=0.1, right=0.9, bottom=0.1, top=0.9)\n",
    "\n",
    "# Save and display the figure\n",
    "plt.savefig(fname=\"G_enrichment_difference_proposal_Paper.pdf\", bbox_inches='tight', pad_inches=0.1)\n",
    "plt.savefig(fname=\"Figure_S6.png\", bbox_inches=\"tight\", pad_inches=0.1)\n",
    "plt.show()"
   ]
  },
  {
   "cell_type": "code",
   "execution_count": null,
   "id": "e28ebab4",
   "metadata": {},
   "outputs": [],
   "source": []
  }
 ],
 "metadata": {
  "kernelspec": {
   "display_name": "Python 3",
   "language": "python",
   "name": "python3"
  },
  "language_info": {
   "codemirror_mode": {
    "name": "ipython",
    "version": 3
   },
   "file_extension": ".py",
   "mimetype": "text/x-python",
   "name": "python",
   "nbconvert_exporter": "python",
   "pygments_lexer": "ipython3",
   "version": "3.8.8"
  },
  "toc": {
   "base_numbering": 1,
   "nav_menu": {},
   "number_sections": true,
   "sideBar": true,
   "skip_h1_title": false,
   "title_cell": "Table of Contents",
   "title_sidebar": "Contents",
   "toc_cell": false,
   "toc_position": {},
   "toc_section_display": true,
   "toc_window_display": false
  },
  "varInspector": {
   "cols": {
    "lenName": 16,
    "lenType": 16,
    "lenVar": 40
   },
   "kernels_config": {
    "python": {
     "delete_cmd_postfix": "",
     "delete_cmd_prefix": "del ",
     "library": "var_list.py",
     "varRefreshCmd": "print(var_dic_list())"
    },
    "r": {
     "delete_cmd_postfix": ") ",
     "delete_cmd_prefix": "rm(",
     "library": "var_list.r",
     "varRefreshCmd": "cat(var_dic_list()) "
    }
   },
   "types_to_exclude": [
    "module",
    "function",
    "builtin_function_or_method",
    "instance",
    "_Feature"
   ],
   "window_display": false
  }
 },
 "nbformat": 4,
 "nbformat_minor": 5
}
